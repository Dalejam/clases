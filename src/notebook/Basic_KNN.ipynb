{
 "cells": [
  {
   "cell_type": "markdown",
   "metadata": {},
   "source": [
    "##  KNN\n",
    "K Near Neighbors\n",
    "\n",
    "Si tengo los siguientes 3 puntos con sus repectivas etiquetas.\n",
    "X = [[4,5],[3,5],[3,4.4]], y = [4, 4.5, 4.3]\n",
    "\n",
    "Y deseo predecir un nuevo dato.\n",
    "\n",
    "$X_{new}$ = [3, 3] , y=?\n",
    "\n",
    "## Distancias\n",
    "\n",
    "Podemos utilizar cualquier tipo de distancia. Norma_1 tambien es conocida como Manhattan distance.\n",
    "\n",
    "${N_1 = |X_{0,0} - X_{1,0}|_1^1+ |X_{1,1} - X_{1,1}|_1^1}$\n",
    "\n",
    "Norma_2, es la distancia euclidiana.\n",
    "\n",
    "${N_2 = \\sqrt{(X_{0,0} - X_{1,0})^2 + (X_{1,1} - X_{1,1})^2}}$\n",
    "\n",
    "## K es el numero de vecinos\n",
    "K es el numero de vecinos que se consideran en la prediccion.\n",
    "\n",
    "Si es regresion: Osea que el valor a predecir es un valor continuo\n",
    "### K es 1\n",
    "para K=1\n",
    "Para nuestro ejemplo cuando llega el nuevo dato [3, 3].\n",
    "\n",
    "\n",
    "$y^* = y_i, i,{argmin(||D||)}$\n",
    "\n",
    "Las distancias del nuevo dato al punto 1 es [ 3], al punto 2 es [ 2] y al punto 3 [1.4]. Por lo que el valor a \n",
    "\n",
    "retornar es 4.3. Que es el indice 3 del vector y.\n",
    "\n",
    "### K es 2\n",
    "$y^* = {1\\over2}{{\\sum}_{i=1}^{k=2}{Y_i, args(sorted(||D||)) }}$\n",
    "\n",
    "Cuando K=2 el valor a retornar es el promedio del valor de *y* para los puntos 2 y 3.\n",
    "\n",
    "El resultado es 4.4\n",
    "\n",
    "### K es cualquier valor\n",
    "\n",
    "$y^* = {{1}\\over{K}}{{\\sum}_{i=1}^{k=K}{Y_i, args(sorted(||D||)) }}$\n"
   ]
  },
  {
   "cell_type": "code",
   "execution_count": 38,
   "metadata": {},
   "outputs": [],
   "source": [
    "import random\n",
    "import numpy as np\n",
    "import matplotlib.pyplot as plt\n",
    "import pandas as pd\n",
    "%matplotlib inline"
   ]
  },
  {
   "cell_type": "code",
   "execution_count": 23,
   "metadata": {},
   "outputs": [],
   "source": [
    "class KNN:\n",
    "    def __init__(self, K):\n",
    "        self.K = K\n",
    "    \n",
    "    def train(self, X, y):\n",
    "        self.X = X\n",
    "        self.y = y\n",
    "    \n",
    "    def predict(self, X_new):\n",
    "        n = len(X)\n",
    "        dis = []\n",
    "        i = 0\n",
    "        for rows in X:\n",
    "            measure_dis = 0\n",
    "            for j in range(len(rows)):\n",
    "                measure_dis += abs(rows[j] - X_new[j]) \n",
    "            dis.append((measure_dis,i))\n",
    "            i = i + 1\n",
    "        dis = sorted(dis, key=lambda dis: dis[0])\n",
    "        y_hat =  np.mean([y[elm_d[1]] for elm_d in dis[:self.K]])\n",
    "        \n",
    "        return y_hat"
   ]
  },
  {
   "cell_type": "code",
   "execution_count": 68,
   "metadata": {},
   "outputs": [
    {
     "name": "stdout",
     "output_type": "stream",
     "text": [
      "[(1.4000000000000004, 2), (2, 1), (3, 0)] [4.3, 4.5]\n",
      "La predictioncon K=2, es y_hat=4.4\n"
     ]
    }
   ],
   "source": [
    "K = 2\n",
    "knn = KNN(K)\n",
    "X = [[4,5],[3,5],[3,4.4]]\n",
    "y = [4, 4.5, 4.3]\n",
    "knn.train(X,y)\n",
    "new_dato =  [3, 3]\n",
    "y_hat = knn.predict(new_dato)\n",
    "print(\"La predictioncon K={0}, es y_hat={1}\".format(K,y_hat))"
   ]
  },
  {
   "cell_type": "code",
   "execution_count": 88,
   "metadata": {},
   "outputs": [
    {
     "data": {
      "image/png": "[encoded data removed]",
      "text/plain": [
       "<Figure size 432x288 with 1 Axes>"
      ]
     },
     "metadata": {
      "needs_background": "light"
     },
     "output_type": "display_data"
    }
   ],
   "source": [
    "fig, ax = plt.subplots()\n",
    "marg = 0.05\n",
    "ax.scatter(np.array(X)[:,0], np.array(X)[:,1],c='b')\n",
    "for row,y_text in zip(np.array(X),y):\n",
    "    ax.text(row[0], row[1]+marg, \"y=%s\"%y_text)\n",
    "ax.scatter(new_dato[0],new_dato[1],c='r')\n",
    "plt.show()"
   ]
  }
 ],
 "metadata": {
  "kernelspec": {
   "display_name": "Python 3",
   "language": "python",
   "name": "python3"
  },
  "language_info": {
   "codemirror_mode": {
    "name": "ipython",
    "version": 3
   },
   "file_extension": ".py",
   "mimetype": "text/x-python",
   "name": "python",
   "nbconvert_exporter": "python",
   "pygments_lexer": "ipython3",
   "version": "3.6.5"
  }
 },
 "nbformat": 4,
 "nbformat_minor": 2
}
